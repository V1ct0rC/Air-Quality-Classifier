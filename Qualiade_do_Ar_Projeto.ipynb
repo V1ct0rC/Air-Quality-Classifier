{
  "nbformat": 4,
  "nbformat_minor": 0,
  "metadata": {
    "colab": {
      "name": "Qualiade do Ar - Projeto.ipynb",
      "provenance": [],
      "collapsed_sections": []
    },
    "kernelspec": {
      "name": "python3",
      "display_name": "Python 3"
    },
    "language_info": {
      "name": "python"
    }
  },
  "cells": [
    {
      "cell_type": "markdown",
      "source": [
        "#Qualidade do Ar\n",
        "####Uso do Classificador Ingênuo de Bayes para determinar o grau de poluição atmosférica\n",
        "\n"
      ],
      "metadata": {
        "id": "VWigVyJOK8MC"
      }
    },
    {
      "cell_type": "markdown",
      "source": [
        "##Bibliotecas\n",
        "**Devemos, primeiro, importar as bibliotecas que iremos utilizar em nosso projeto:**\n",
        "\n",
        "pandas -> para trabalhar com o banco de dados\n",
        "\n",
        "numpy -> para manipular matrizes e vetores e realizar operações matemáticas\n",
        "\n",
        "matplotlib -> para criar grpaficos e visualizar dados\n",
        "\n",
        "sklearn -> biblioiteca de Machine Learning para utilizarmos o Classificador Ingênuo de Bayes "
      ],
      "metadata": {
        "id": "tYbpV4JHL_Em"
      }
    },
    {
      "cell_type": "code",
      "source": [
        "from google.colab import drive\n",
        "drive.mount('/content/drive')  #Linkando o Colab com o Drive\n",
        "\n",
        "import pandas as pd  #Manipular database\n",
        "import matplotlib.pyplot as plt  #Visualização de dados\n",
        "from sklearn.model_selection import train_test_split  #Divisor database\n",
        "from sklearn.naive_bayes import GaussianNB  #Classificador \n",
        "from sklearn import metrics  #Acurácia dos resultados\n",
        "import time\n",
        "import random"
      ],
      "metadata": {
        "colab": {
          "base_uri": "https://localhost:8080/"
        },
        "id": "2wZ3UkNjL_zb",
        "outputId": "2b489f4f-ea69-48b3-c333-ef50c933d8f6"
      },
      "execution_count": null,
      "outputs": [
        {
          "output_type": "stream",
          "name": "stdout",
          "text": [
            "Drive already mounted at /content/drive; to attempt to forcibly remount, call drive.mount(\"/content/drive\", force_remount=True).\n"
          ]
        }
      ]
    },
    {
      "cell_type": "markdown",
      "source": [
        "##Database\n",
        "**O banco de dados utilizado em nosso modelo se encontra em https://archive-beta.ics.uci.edu/ml/datasets/air+quality e foi adaptado para ter uma maior estabilidade e simplicitade durante o modelo e na exposição dos seus resultados.**\n",
        "\n",
        "> Ele é composto das informações acerca da data e hora das medições (uma medição por hora durante um ano) onde foi registrada a concentração de CO (mg/m3), Hidrocarbonetos não metálicos (μg/m3), Benzeno (μg/m3), NOx (ppb), NO2 (μg/m3), os dados também abrangem a humidade relativa do ar (%) a humidade absoluta e a temperatura ambiente do local (°C). Posteriormente tais comparações foram classificadas em relação às concentrações naturais dos gases e, dessa forma, conseguimos definir se tal condição atmosférica está boa ou ruim.\n",
        "\n",
        "> Os valores originais sinalizados no database como -200 (que significariam a falta de medição) foram sunstituídos pelos valores médios da concentração natural dos gases, de forma que não afetariam o modelo.\n",
        "\n",
        "> Informações mais detalhadas acerca da base de dados estão disponíveis em nosso relatório e seminário.\n",
        "\n",
        "Contudo, antes de mais nada, é necessario carregar os dados para o código. \n",
        "\n",
        "Como os valores já são apenas numéricos, não é necessário atribuir valores para as classes."
      ],
      "metadata": {
        "id": "A74yVbcFoXo5"
      }
    },
    {
      "cell_type": "code",
      "source": [
        "database = pd.read_excel('/content/drive/MyDrive/AirQuality/DataAirQualityUCI.xlsx')\n"
      ],
      "metadata": {
        "id": "I_ZRqVOtqUJ6"
      },
      "execution_count": null,
      "outputs": []
    },
    {
      "cell_type": "markdown",
      "source": [
        "Após o carregamento e tratamento dos dados, resultamos com o segunte database:"
      ],
      "metadata": {
        "id": "dkzNeX5F9ibl"
      }
    },
    {
      "cell_type": "code",
      "source": [
        "database.info()  #Visão geral das categorias\n",
        "database.head(15)  #Primeirs 15 linhas formatadas"
      ],
      "metadata": {
        "colab": {
          "base_uri": "https://localhost:8080/",
          "height": 832
        },
        "id": "qtTQv3r49z44",
        "outputId": "0b378d8a-3e9a-4f48-da45-247a19ac480d"
      },
      "execution_count": null,
      "outputs": [
        {
          "output_type": "stream",
          "name": "stdout",
          "text": [
            "<class 'pandas.core.frame.DataFrame'>\n",
            "RangeIndex: 9357 entries, 0 to 9356\n",
            "Data columns (total 11 columns):\n",
            " #   Column     Non-Null Count  Dtype         \n",
            "---  ------     --------------  -----         \n",
            " 0   Resultado  9357 non-null   int64         \n",
            " 1   Date       9357 non-null   datetime64[ns]\n",
            " 2   Time       9357 non-null   object        \n",
            " 3   CO(GT)     9357 non-null   float64       \n",
            " 4   NMHC(GT)   9357 non-null   int64         \n",
            " 5   C6H6(GT)   9357 non-null   float64       \n",
            " 6   NOx(GT)    9357 non-null   float64       \n",
            " 7   NO2(GT)    9357 non-null   float64       \n",
            " 8   T          9357 non-null   float64       \n",
            " 9   RH         9357 non-null   float64       \n",
            " 10  AH         9357 non-null   float64       \n",
            "dtypes: datetime64[ns](1), float64(7), int64(2), object(1)\n",
            "memory usage: 804.2+ KB\n"
          ]
        },
        {
          "output_type": "execute_result",
          "data": {
            "text/html": [
              "\n",
              "  <div id=\"df-55200d07-26ed-428a-a0ad-8138bb5dafe7\">\n",
              "    <div class=\"colab-df-container\">\n",
              "      <div>\n",
              "<style scoped>\n",
              "    .dataframe tbody tr th:only-of-type {\n",
              "        vertical-align: middle;\n",
              "    }\n",
              "\n",
              "    .dataframe tbody tr th {\n",
              "        vertical-align: top;\n",
              "    }\n",
              "\n",
              "    .dataframe thead th {\n",
              "        text-align: right;\n",
              "    }\n",
              "</style>\n",
              "<table border=\"1\" class=\"dataframe\">\n",
              "  <thead>\n",
              "    <tr style=\"text-align: right;\">\n",
              "      <th></th>\n",
              "      <th>Resultado</th>\n",
              "      <th>Date</th>\n",
              "      <th>Time</th>\n",
              "      <th>CO(GT)</th>\n",
              "      <th>NMHC(GT)</th>\n",
              "      <th>C6H6(GT)</th>\n",
              "      <th>NOx(GT)</th>\n",
              "      <th>NO2(GT)</th>\n",
              "      <th>T</th>\n",
              "      <th>RH</th>\n",
              "      <th>AH</th>\n",
              "    </tr>\n",
              "  </thead>\n",
              "  <tbody>\n",
              "    <tr>\n",
              "      <th>0</th>\n",
              "      <td>0</td>\n",
              "      <td>2004-03-10</td>\n",
              "      <td>18:00:00</td>\n",
              "      <td>2.6</td>\n",
              "      <td>150</td>\n",
              "      <td>11.881723</td>\n",
              "      <td>166.0</td>\n",
              "      <td>113.0</td>\n",
              "      <td>13.600</td>\n",
              "      <td>48.875001</td>\n",
              "      <td>0.757754</td>\n",
              "    </tr>\n",
              "    <tr>\n",
              "      <th>1</th>\n",
              "      <td>0</td>\n",
              "      <td>2004-03-10</td>\n",
              "      <td>19:00:00</td>\n",
              "      <td>2.0</td>\n",
              "      <td>112</td>\n",
              "      <td>9.397165</td>\n",
              "      <td>103.0</td>\n",
              "      <td>92.0</td>\n",
              "      <td>13.300</td>\n",
              "      <td>47.700000</td>\n",
              "      <td>0.725487</td>\n",
              "    </tr>\n",
              "    <tr>\n",
              "      <th>2</th>\n",
              "      <td>0</td>\n",
              "      <td>2004-03-10</td>\n",
              "      <td>20:00:00</td>\n",
              "      <td>2.2</td>\n",
              "      <td>88</td>\n",
              "      <td>8.997817</td>\n",
              "      <td>131.0</td>\n",
              "      <td>114.0</td>\n",
              "      <td>11.900</td>\n",
              "      <td>53.975000</td>\n",
              "      <td>0.750239</td>\n",
              "    </tr>\n",
              "    <tr>\n",
              "      <th>3</th>\n",
              "      <td>0</td>\n",
              "      <td>2004-03-10</td>\n",
              "      <td>21:00:00</td>\n",
              "      <td>2.2</td>\n",
              "      <td>80</td>\n",
              "      <td>9.228796</td>\n",
              "      <td>172.0</td>\n",
              "      <td>122.0</td>\n",
              "      <td>11.000</td>\n",
              "      <td>60.000000</td>\n",
              "      <td>0.786713</td>\n",
              "    </tr>\n",
              "    <tr>\n",
              "      <th>4</th>\n",
              "      <td>0</td>\n",
              "      <td>2004-03-10</td>\n",
              "      <td>22:00:00</td>\n",
              "      <td>1.6</td>\n",
              "      <td>51</td>\n",
              "      <td>6.518224</td>\n",
              "      <td>131.0</td>\n",
              "      <td>116.0</td>\n",
              "      <td>11.150</td>\n",
              "      <td>59.575001</td>\n",
              "      <td>0.788794</td>\n",
              "    </tr>\n",
              "    <tr>\n",
              "      <th>5</th>\n",
              "      <td>0</td>\n",
              "      <td>2004-03-10</td>\n",
              "      <td>23:00:00</td>\n",
              "      <td>1.2</td>\n",
              "      <td>38</td>\n",
              "      <td>4.741012</td>\n",
              "      <td>89.0</td>\n",
              "      <td>96.0</td>\n",
              "      <td>11.175</td>\n",
              "      <td>59.175000</td>\n",
              "      <td>0.784772</td>\n",
              "    </tr>\n",
              "    <tr>\n",
              "      <th>6</th>\n",
              "      <td>0</td>\n",
              "      <td>2004-03-11</td>\n",
              "      <td>00:00:00</td>\n",
              "      <td>1.2</td>\n",
              "      <td>31</td>\n",
              "      <td>3.624399</td>\n",
              "      <td>62.0</td>\n",
              "      <td>77.0</td>\n",
              "      <td>11.325</td>\n",
              "      <td>56.775000</td>\n",
              "      <td>0.760312</td>\n",
              "    </tr>\n",
              "    <tr>\n",
              "      <th>7</th>\n",
              "      <td>0</td>\n",
              "      <td>2004-03-11</td>\n",
              "      <td>01:00:00</td>\n",
              "      <td>1.0</td>\n",
              "      <td>31</td>\n",
              "      <td>3.326677</td>\n",
              "      <td>62.0</td>\n",
              "      <td>76.0</td>\n",
              "      <td>10.675</td>\n",
              "      <td>60.000000</td>\n",
              "      <td>0.770238</td>\n",
              "    </tr>\n",
              "    <tr>\n",
              "      <th>8</th>\n",
              "      <td>0</td>\n",
              "      <td>2004-03-11</td>\n",
              "      <td>02:00:00</td>\n",
              "      <td>0.9</td>\n",
              "      <td>24</td>\n",
              "      <td>2.339416</td>\n",
              "      <td>45.0</td>\n",
              "      <td>60.0</td>\n",
              "      <td>10.650</td>\n",
              "      <td>59.674999</td>\n",
              "      <td>0.764819</td>\n",
              "    </tr>\n",
              "    <tr>\n",
              "      <th>9</th>\n",
              "      <td>0</td>\n",
              "      <td>2004-03-11</td>\n",
              "      <td>03:00:00</td>\n",
              "      <td>0.6</td>\n",
              "      <td>19</td>\n",
              "      <td>1.696658</td>\n",
              "      <td>41.0</td>\n",
              "      <td>100.0</td>\n",
              "      <td>10.250</td>\n",
              "      <td>60.200001</td>\n",
              "      <td>0.751657</td>\n",
              "    </tr>\n",
              "    <tr>\n",
              "      <th>10</th>\n",
              "      <td>0</td>\n",
              "      <td>2004-03-11</td>\n",
              "      <td>04:00:00</td>\n",
              "      <td>1.5</td>\n",
              "      <td>14</td>\n",
              "      <td>1.293620</td>\n",
              "      <td>21.0</td>\n",
              "      <td>34.0</td>\n",
              "      <td>10.075</td>\n",
              "      <td>60.474999</td>\n",
              "      <td>0.746495</td>\n",
              "    </tr>\n",
              "    <tr>\n",
              "      <th>11</th>\n",
              "      <td>0</td>\n",
              "      <td>2004-03-11</td>\n",
              "      <td>05:00:00</td>\n",
              "      <td>0.7</td>\n",
              "      <td>8</td>\n",
              "      <td>1.133431</td>\n",
              "      <td>16.0</td>\n",
              "      <td>28.0</td>\n",
              "      <td>11.000</td>\n",
              "      <td>56.175000</td>\n",
              "      <td>0.736560</td>\n",
              "    </tr>\n",
              "    <tr>\n",
              "      <th>12</th>\n",
              "      <td>0</td>\n",
              "      <td>2004-03-11</td>\n",
              "      <td>06:00:00</td>\n",
              "      <td>0.7</td>\n",
              "      <td>16</td>\n",
              "      <td>1.603768</td>\n",
              "      <td>34.0</td>\n",
              "      <td>48.0</td>\n",
              "      <td>10.450</td>\n",
              "      <td>58.125000</td>\n",
              "      <td>0.735295</td>\n",
              "    </tr>\n",
              "    <tr>\n",
              "      <th>13</th>\n",
              "      <td>0</td>\n",
              "      <td>2004-03-11</td>\n",
              "      <td>07:00:00</td>\n",
              "      <td>1.1</td>\n",
              "      <td>29</td>\n",
              "      <td>3.243618</td>\n",
              "      <td>98.0</td>\n",
              "      <td>82.0</td>\n",
              "      <td>10.200</td>\n",
              "      <td>59.599999</td>\n",
              "      <td>0.741736</td>\n",
              "    </tr>\n",
              "    <tr>\n",
              "      <th>14</th>\n",
              "      <td>0</td>\n",
              "      <td>2004-03-11</td>\n",
              "      <td>08:00:00</td>\n",
              "      <td>2.0</td>\n",
              "      <td>64</td>\n",
              "      <td>8.013773</td>\n",
              "      <td>174.0</td>\n",
              "      <td>112.0</td>\n",
              "      <td>10.750</td>\n",
              "      <td>57.425000</td>\n",
              "      <td>0.740795</td>\n",
              "    </tr>\n",
              "  </tbody>\n",
              "</table>\n",
              "</div>\n",
              "      <button class=\"colab-df-convert\" onclick=\"convertToInteractive('df-55200d07-26ed-428a-a0ad-8138bb5dafe7')\"\n",
              "              title=\"Convert this dataframe to an interactive table.\"\n",
              "              style=\"display:none;\">\n",
              "        \n",
              "  <svg xmlns=\"http://www.w3.org/2000/svg\" height=\"24px\"viewBox=\"0 0 24 24\"\n",
              "       width=\"24px\">\n",
              "    <path d=\"M0 0h24v24H0V0z\" fill=\"none\"/>\n",
              "    <path d=\"M18.56 5.44l.94 2.06.94-2.06 2.06-.94-2.06-.94-.94-2.06-.94 2.06-2.06.94zm-11 1L8.5 8.5l.94-2.06 2.06-.94-2.06-.94L8.5 2.5l-.94 2.06-2.06.94zm10 10l.94 2.06.94-2.06 2.06-.94-2.06-.94-.94-2.06-.94 2.06-2.06.94z\"/><path d=\"M17.41 7.96l-1.37-1.37c-.4-.4-.92-.59-1.43-.59-.52 0-1.04.2-1.43.59L10.3 9.45l-7.72 7.72c-.78.78-.78 2.05 0 2.83L4 21.41c.39.39.9.59 1.41.59.51 0 1.02-.2 1.41-.59l7.78-7.78 2.81-2.81c.8-.78.8-2.07 0-2.86zM5.41 20L4 18.59l7.72-7.72 1.47 1.35L5.41 20z\"/>\n",
              "  </svg>\n",
              "      </button>\n",
              "      \n",
              "  <style>\n",
              "    .colab-df-container {\n",
              "      display:flex;\n",
              "      flex-wrap:wrap;\n",
              "      gap: 12px;\n",
              "    }\n",
              "\n",
              "    .colab-df-convert {\n",
              "      background-color: #E8F0FE;\n",
              "      border: none;\n",
              "      border-radius: 50%;\n",
              "      cursor: pointer;\n",
              "      display: none;\n",
              "      fill: #1967D2;\n",
              "      height: 32px;\n",
              "      padding: 0 0 0 0;\n",
              "      width: 32px;\n",
              "    }\n",
              "\n",
              "    .colab-df-convert:hover {\n",
              "      background-color: #E2EBFA;\n",
              "      box-shadow: 0px 1px 2px rgba(60, 64, 67, 0.3), 0px 1px 3px 1px rgba(60, 64, 67, 0.15);\n",
              "      fill: #174EA6;\n",
              "    }\n",
              "\n",
              "    [theme=dark] .colab-df-convert {\n",
              "      background-color: #3B4455;\n",
              "      fill: #D2E3FC;\n",
              "    }\n",
              "\n",
              "    [theme=dark] .colab-df-convert:hover {\n",
              "      background-color: #434B5C;\n",
              "      box-shadow: 0px 1px 3px 1px rgba(0, 0, 0, 0.15);\n",
              "      filter: drop-shadow(0px 1px 2px rgba(0, 0, 0, 0.3));\n",
              "      fill: #FFFFFF;\n",
              "    }\n",
              "  </style>\n",
              "\n",
              "      <script>\n",
              "        const buttonEl =\n",
              "          document.querySelector('#df-55200d07-26ed-428a-a0ad-8138bb5dafe7 button.colab-df-convert');\n",
              "        buttonEl.style.display =\n",
              "          google.colab.kernel.accessAllowed ? 'block' : 'none';\n",
              "\n",
              "        async function convertToInteractive(key) {\n",
              "          const element = document.querySelector('#df-55200d07-26ed-428a-a0ad-8138bb5dafe7');\n",
              "          const dataTable =\n",
              "            await google.colab.kernel.invokeFunction('convertToInteractive',\n",
              "                                                     [key], {});\n",
              "          if (!dataTable) return;\n",
              "\n",
              "          const docLinkHtml = 'Like what you see? Visit the ' +\n",
              "            '<a target=\"_blank\" href=https://colab.research.google.com/notebooks/data_table.ipynb>data table notebook</a>'\n",
              "            + ' to learn more about interactive tables.';\n",
              "          element.innerHTML = '';\n",
              "          dataTable['output_type'] = 'display_data';\n",
              "          await google.colab.output.renderOutput(dataTable, element);\n",
              "          const docLink = document.createElement('div');\n",
              "          docLink.innerHTML = docLinkHtml;\n",
              "          element.appendChild(docLink);\n",
              "        }\n",
              "      </script>\n",
              "    </div>\n",
              "  </div>\n",
              "  "
            ],
            "text/plain": [
              "    Resultado       Date      Time  ...       T         RH        AH\n",
              "0           0 2004-03-10  18:00:00  ...  13.600  48.875001  0.757754\n",
              "1           0 2004-03-10  19:00:00  ...  13.300  47.700000  0.725487\n",
              "2           0 2004-03-10  20:00:00  ...  11.900  53.975000  0.750239\n",
              "3           0 2004-03-10  21:00:00  ...  11.000  60.000000  0.786713\n",
              "4           0 2004-03-10  22:00:00  ...  11.150  59.575001  0.788794\n",
              "5           0 2004-03-10  23:00:00  ...  11.175  59.175000  0.784772\n",
              "6           0 2004-03-11  00:00:00  ...  11.325  56.775000  0.760312\n",
              "7           0 2004-03-11  01:00:00  ...  10.675  60.000000  0.770238\n",
              "8           0 2004-03-11  02:00:00  ...  10.650  59.674999  0.764819\n",
              "9           0 2004-03-11  03:00:00  ...  10.250  60.200001  0.751657\n",
              "10          0 2004-03-11  04:00:00  ...  10.075  60.474999  0.746495\n",
              "11          0 2004-03-11  05:00:00  ...  11.000  56.175000  0.736560\n",
              "12          0 2004-03-11  06:00:00  ...  10.450  58.125000  0.735295\n",
              "13          0 2004-03-11  07:00:00  ...  10.200  59.599999  0.741736\n",
              "14          0 2004-03-11  08:00:00  ...  10.750  57.425000  0.740795\n",
              "\n",
              "[15 rows x 11 columns]"
            ]
          },
          "metadata": {},
          "execution_count": 4
        }
      ]
    },
    {
      "cell_type": "markdown",
      "source": [
        "Agora, vamos ilustrar graficamente os atributos da base de dados, a fim de termos uma melhor compreensão do modelo.\n",
        "\n",
        "> Os gráficos foram construídos dividindo a amplitude dos valores em 4 intervalos, de menores valores até os maiores (eixo x), e depois é apresentada a quiantidade de cada intervalo (eixo y).  "
      ],
      "metadata": {
        "id": "6aiA2AZ4-jLJ"
      }
    },
    {
      "cell_type": "markdown",
      "source": [
        "####CO(GT)"
      ],
      "metadata": {
        "id": "tFlPAqppKGQi"
      }
    },
    {
      "cell_type": "code",
      "source": [
        "colors = ['steelblue', 'tab:orange', 'tab:green', 'tab:red', 'tab:purple', 'tab:brown', 'tab:pink', 'tab:gray', 'tab:olive', 'tab:cyan', 'lightcoral']\n",
        "dataclass = []\n",
        "\n",
        "qtd = [0, 0, 0, 0]\n",
        "dataclass = list(database['CO(GT)'].values)  #Guarda em uma lista os valores da classe seleconada\n",
        "\n",
        "plotclass = ['0.0-3.0', '3.1-6.0', '6.1-9.0', '9.1-12.0']\n",
        "print(len(dataclass))\n",
        "for x in dataclass:\n",
        "  if x >= 0 and x<=3: \n",
        "    qtd[0]+=1;\n",
        "  elif x > 3 and x<=6:\n",
        "    qtd[1]+=1;\n",
        "  elif x > 6 and x<=9:\n",
        "    qtd[2]+=1;\n",
        "  elif x > 9 and x<=12:\n",
        "    qtd[3]+=1;\n",
        "\n",
        "#Plotando o gráfico\n",
        "plt.figure(figsize=(7, 7))\n",
        "plt.bar(plotclass, qtd, color=colors)\n",
        "plt.title('CO(GT)')\n",
        "plt.xlabel(\"Result Class\")\n",
        "plt.ylabel(\"Count\")\n",
        "plt.show()"
      ],
      "metadata": {
        "colab": {
          "base_uri": "https://localhost:8080/",
          "height": 475
        },
        "id": "wUiO6Y3J-z98",
        "outputId": "16c5558b-8cf0-418c-af0e-dbf2ec70ada2"
      },
      "execution_count": null,
      "outputs": [
        {
          "output_type": "stream",
          "name": "stdout",
          "text": [
            "9357\n"
          ]
        },
        {
          "output_type": "display_data",
          "data": {
            "image/png": "[encoded data removed]",
            "text/plain": [
              "<Figure size 504x504 with 1 Axes>"
            ]
          },
          "metadata": {
            "needs_background": "light"
          }
        }
      ]
    },
    {
      "cell_type": "markdown",
      "source": [
        "####NMHC(GT)"
      ],
      "metadata": {
        "id": "aeRl70pyLsTl"
      }
    },
    {
      "cell_type": "code",
      "source": [
        "qtd = [0, 0, 0, 0]\n",
        "dataclass = list(database['NMHC(GT)'].values)  #Guarda em uma lista os valores da classe seleconada\n",
        "\n",
        "plotclass = ['0-300', '301-600', '601-900', '901-1200']\n",
        "print(len(dataclass))\n",
        "for x in dataclass:\n",
        "  if x >= 0 and x<=300: \n",
        "    qtd[0]+=1;\n",
        "  elif x > 300 and x<=600:\n",
        "    qtd[1]+=1;\n",
        "  elif x > 600 and x<=900:\n",
        "    qtd[2]+=1;\n",
        "  elif x > 900 and x<=1200:\n",
        "    qtd[3]+=1;\n",
        "\n",
        "#Plotando o gráfico\n",
        "plt.figure(figsize=(7, 7))\n",
        "plt.bar(plotclass, qtd, color=colors)\n",
        "plt.title('NMHC(GT)')\n",
        "plt.xlabel(\"Result Class\")\n",
        "plt.ylabel(\"Count\")\n",
        "plt.show()"
      ],
      "metadata": {
        "colab": {
          "base_uri": "https://localhost:8080/",
          "height": 475
        },
        "id": "YVGLqxPnLuDz",
        "outputId": "058fbb74-1ad1-4654-dd2f-881c72a113f3"
      },
      "execution_count": null,
      "outputs": [
        {
          "output_type": "stream",
          "name": "stdout",
          "text": [
            "9357\n"
          ]
        },
        {
          "output_type": "display_data",
          "data": {
            "image/png": "[encoded data removed]",
            "text/plain": [
              "<Figure size 504x504 with 1 Axes>"
            ]
          },
          "metadata": {
            "needs_background": "light"
          }
        }
      ]
    },
    {
      "cell_type": "markdown",
      "source": [
        "####C6H6(GT)"
      ],
      "metadata": {
        "id": "kEQVmxE8Md0l"
      }
    },
    {
      "cell_type": "code",
      "source": [
        "qtd = [0, 0, 0, 0]\n",
        "dataclass = list(database['C6H6(GT)'].values)  #Guarda em uma lista os valores da classe seleconada\n",
        "\n",
        "plotclass = ['00.00-15.00', '15.01-30.00', '30.1-45.00', '45.01-60.00']\n",
        "print(len(dataclass))\n",
        "for x in dataclass:\n",
        "  if x >= 0 and x<=15: \n",
        "    qtd[0]+=1;\n",
        "  elif x > 15 and x<=30:\n",
        "    qtd[1]+=1;\n",
        "  elif x > 30 and x<=45:\n",
        "    qtd[2]+=1;\n",
        "  elif x > 45 and x<=60:\n",
        "    qtd[3]+=1;\n",
        "\n",
        "#Plotando o gráfico\n",
        "plt.figure(figsize=(7, 7))\n",
        "plt.bar(plotclass, qtd, color=colors)\n",
        "plt.title('C6H6(GT)')\n",
        "plt.xlabel(\"Result Class\")\n",
        "plt.ylabel(\"Count\")\n",
        "plt.show()"
      ],
      "metadata": {
        "id": "Qz3qXMdDMjh-"
      },
      "execution_count": null,
      "outputs": []
    },
    {
      "cell_type": "markdown",
      "source": [
        "####NOx(GT)"
      ],
      "metadata": {
        "id": "Z3NkkWTfOpKD"
      }
    },
    {
      "cell_type": "code",
      "source": [
        "qtd = [0, 0, 0, 0]\n",
        "dataclass = list(database['NOx(GT)'].values)  #Guarda em uma lista os valores da classe seleconada\n",
        "\n",
        "plotclass = ['0-400', '401-800', '801-1200', '1201-1600']\n",
        "print(len(dataclass))\n",
        "for x in dataclass:\n",
        "  if x >= 0 and x<=400: \n",
        "    qtd[0]+=1;\n",
        "  elif x > 400 and x<=800:\n",
        "    qtd[1]+=1;\n",
        "  elif x > 800 and x<=1200:\n",
        "    qtd[2]+=1;\n",
        "  elif x > 1200 and x<=1600:\n",
        "    qtd[3]+=1;\n",
        "\n",
        "#Plotando o gráfico\n",
        "plt.figure(figsize=(7, 7))\n",
        "plt.bar(plotclass, qtd, color=colors)\n",
        "plt.title('NOx(GT)')\n",
        "plt.xlabel(\"Result Class\")\n",
        "plt.ylabel(\"Count\")\n",
        "plt.show()"
      ],
      "metadata": {
        "colab": {
          "base_uri": "https://localhost:8080/",
          "height": 475
        },
        "id": "o3xqakxZOqJR",
        "outputId": "1e68561e-1b00-465d-b675-a9223c080729"
      },
      "execution_count": null,
      "outputs": [
        {
          "output_type": "stream",
          "name": "stdout",
          "text": [
            "9357\n"
          ]
        },
        {
          "output_type": "display_data",
          "data": {
            "image/png": "[encoded data removed]",
            "text/plain": [
              "<Figure size 504x504 with 1 Axes>"
            ]
          },
          "metadata": {
            "needs_background": "light"
          }
        }
      ]
    },
    {
      "cell_type": "markdown",
      "source": [
        "####NO2(GT)"
      ],
      "metadata": {
        "id": "Pk3_EwXjTvmp"
      }
    },
    {
      "cell_type": "code",
      "source": [
        "qtd = [0, 0, 0, 0]\n",
        "dataclass = list(database['NO2(GT)'].values)  #Guarda em uma lista os valores da classe seleconada\n",
        "plotclass = ['0-100', '101-200', '201-300', '301-400']\n",
        "print(len(dataclass))\n",
        "for x in dataclass:\n",
        "  if x >= 0 and x<=100: \n",
        "    qtd[0]+=1;\n",
        "  elif x > 100 and x<=200:\n",
        "    qtd[1]+=1;\n",
        "  elif x > 200 and x<=300:\n",
        "    qtd[2]+=1;\n",
        "  elif x > 300 and x<=400:\n",
        "    qtd[3]+=1;\n",
        "\n",
        "#Plotando o gráfico\n",
        "plt.figure(figsize=(7, 7))\n",
        "plt.bar(plotclass, qtd, color=colors)\n",
        "plt.title('NO2(GT)')\n",
        "plt.xlabel(\"Result Class\")\n",
        "plt.ylabel(\"Count\")\n",
        "plt.show()"
      ],
      "metadata": {
        "colab": {
          "base_uri": "https://localhost:8080/",
          "height": 475
        },
        "id": "a-lFyvKQT1MD",
        "outputId": "03ba143d-c6bc-4887-a48c-3dd8f2b718ea"
      },
      "execution_count": null,
      "outputs": [
        {
          "output_type": "stream",
          "name": "stdout",
          "text": [
            "9357\n"
          ]
        },
        {
          "output_type": "display_data",
          "data": {
            "image/png": "[encoded data removed]",
            "text/plain": [
              "<Figure size 504x504 with 1 Axes>"
            ]
          },
          "metadata": {
            "needs_background": "light"
          }
        }
      ]
    },
    {
      "cell_type": "markdown",
      "source": [
        "####T"
      ],
      "metadata": {
        "id": "dGAN0JkrWryK"
      }
    },
    {
      "cell_type": "code",
      "source": [
        "qtd = [0, 0, 0, 0]\n",
        "dataclass = list(database['T'].values)  #Guarda em uma lista os valores da classe seleconada\n",
        "\n",
        "plotclass = ['00.00-12.00', '12.01-24.00', '24.01-36.00', '36.01-48.00']\n",
        "print(len(dataclass))\n",
        "for x in dataclass:\n",
        "  if x >= 0 and x<=12: \n",
        "    qtd[0]+=1;\n",
        "  elif x > 12 and x<=24:\n",
        "    qtd[1]+=1;\n",
        "  elif x > 24 and x<=36:\n",
        "    qtd[2]+=1;\n",
        "  elif x > 36 and x<=48:\n",
        "    qtd[3]+=1;\n",
        "\n",
        "#Plotando o gráfico\n",
        "plt.figure(figsize=(7, 7))\n",
        "plt.bar(plotclass, qtd, color=colors)\n",
        "plt.title('Temperature')\n",
        "plt.xlabel(\"Result Class\")\n",
        "plt.ylabel(\"Count\")\n",
        "plt.show()"
      ],
      "metadata": {
        "colab": {
          "base_uri": "https://localhost:8080/",
          "height": 475
        },
        "id": "UnDYOOP0Wusv",
        "outputId": "4b8c501c-e346-4695-efdd-1c321833caf9"
      },
      "execution_count": null,
      "outputs": [
        {
          "output_type": "stream",
          "name": "stdout",
          "text": [
            "9357\n"
          ]
        },
        {
          "output_type": "display_data",
          "data": {
            "image/png": "[encoded data removed]",
            "text/plain": [
              "<Figure size 504x504 with 1 Axes>"
            ]
          },
          "metadata": {
            "needs_background": "light"
          }
        }
      ]
    },
    {
      "cell_type": "markdown",
      "source": [
        "####RH"
      ],
      "metadata": {
        "id": "I8UX0fFbYnEf"
      }
    },
    {
      "cell_type": "code",
      "source": [
        "qtd = [0, 0, 0, 0]\n",
        "dataclass = list(database['RH'].values)  #Guarda em uma lista os valores da classe seleconada\n",
        "\n",
        "plotclass = ['00.00-25.00', '25.01-50.00', '50.01-75.00', '75.01-100.00']\n",
        "print(len(dataclass))\n",
        "for x in dataclass:\n",
        "  if x >= 0 and x<=25: \n",
        "    qtd[0]+=1;\n",
        "  elif x > 25 and x<=50:\n",
        "    qtd[1]+=1;\n",
        "  elif x > 50 and x<=75:\n",
        "    qtd[2]+=1;\n",
        "  elif x > 75 and x<=100:\n",
        "    qtd[3]+=1;\n",
        "\n",
        "#Plotando o gráfico\n",
        "plt.figure(figsize=(7, 7))\n",
        "plt.bar(plotclass, qtd, color=colors)\n",
        "plt.title('Relative Humidity')\n",
        "plt.xlabel(\"Result Class\")\n",
        "plt.ylabel(\"Count\")\n",
        "plt.show()"
      ],
      "metadata": {
        "colab": {
          "base_uri": "https://localhost:8080/",
          "height": 475
        },
        "id": "0KKnEOffYolW",
        "outputId": "0cb02d27-cb10-4e07-a5de-204dcfa9657c"
      },
      "execution_count": null,
      "outputs": [
        {
          "output_type": "stream",
          "name": "stdout",
          "text": [
            "9357\n"
          ]
        },
        {
          "output_type": "display_data",
          "data": {
            "image/png": "[encoded data removed]",
            "text/plain": [
              "<Figure size 504x504 with 1 Axes>"
            ]
          },
          "metadata": {
            "needs_background": "light"
          }
        }
      ]
    },
    {
      "cell_type": "markdown",
      "source": [
        "####AH"
      ],
      "metadata": {
        "id": "70D3juykZBe-"
      }
    },
    {
      "cell_type": "code",
      "source": [
        "qtd = [0, 0, 0, 0]\n",
        "dataclass = list(database['AH'].values)  #Guarda em uma lista os valores da classe seleconada\n",
        "plotclass = ['0.00-0.50', '0.51-1.00', '1.01-1.50', '1.51-2.00']\n",
        "print(len(dataclass))\n",
        "for x in dataclass:\n",
        "  if x >= 0 and x<=0.5: \n",
        "    qtd[0]+=1;\n",
        "  elif x > 0.5 and x<=1:\n",
        "    qtd[1]+=1;\n",
        "  elif x > 1 and x<=1.5:\n",
        "    qtd[2]+=1;\n",
        "  elif x > 1.5 and x<=2:\n",
        "    qtd[3]+=1;\n",
        "\n",
        "#Plotando o gráfico\n",
        "plt.figure(figsize=(7, 7))\n",
        "plt.bar(plotclass, qtd, color=colors)\n",
        "plt.title('Absolute Humidity')\n",
        "plt.xlabel(\"Result Class\")\n",
        "plt.ylabel(\"Count\")\n",
        "plt.show()"
      ],
      "metadata": {
        "colab": {
          "base_uri": "https://localhost:8080/",
          "height": 475
        },
        "id": "SyuBFXgFZEPd",
        "outputId": "4ce326d0-22e8-4b11-df1e-65ad85e19f28"
      },
      "execution_count": null,
      "outputs": [
        {
          "output_type": "stream",
          "name": "stdout",
          "text": [
            "9357\n"
          ]
        },
        {
          "output_type": "display_data",
          "data": {
            "image/png": "[encoded data removed]",
            "text/plain": [
              "<Figure size 504x504 with 1 Axes>"
            ]
          },
          "metadata": {
            "needs_background": "light"
          }
        }
      ]
    },
    {
      "cell_type": "markdown",
      "source": [
        "##Classificador Ingenuo de Bayes\n",
        "Agora, após o trabalho e análise da base de dados, vamos implementar o modelo. Conhecido como Classificador Naive Bayes, ele é utilizado em machine learning e se baseia no Teorema de Bayes,\n",
        "\n",
        "> P(Bi|A) = P(A|Bi) P(Bi) / Σ P(A|Bj) P(Bj)\n",
        "\n",
        "Que classifica a probabilidade da ocorrência de um evento Bi dado que um evento A tenha ocorrido. Podemos utilizar essa propriedade para classificar um novo evento (como as características do ar de algum lugar) comparando-as com padrões já vistos nos casos de treinamento.\n",
        "\n",
        "> Foi utilizado 70% do database para o treinamento do modelo e 30% para o teste."
      ],
      "metadata": {
        "id": "iB-oTtjLaUlT"
      }
    },
    {
      "cell_type": "code",
      "source": [
        "x = database.iloc[:, 3:]  #Atributos (menos a hora e data de verificação)\n",
        "y = database.iloc[:, 0]  #Resultados \n",
        "#print(y)\n",
        "\n",
        "x_train, x_test, y_train, y_test = train_test_split(x, y, test_size = 0.3, random_state = int(time.time()))\n",
        "\n",
        "model = GaussianNB()\n",
        "model.fit(x_train, y_train)\n",
        "y_predicted = model.predict(x_test)\n",
        "\n",
        "#Verificando o desemplenho do modelo\n",
        "accu = metrics.accuracy_score(y_test, y_predicted)  #Accuracy\n",
        "prec = metrics.precision_score(y_test,y_predicted, average=\"weighted\", zero_division=0)  #Precision\n",
        "recall = metrics.precision_score(y_test, y_predicted, average=\"weighted\", zero_division=0)  #Recall\n",
        "f1_score = metrics.f1_score(y_test, y_predicted, average=\"weighted\")  #F1 Score\n",
        "print('Desempenho do modelo:\\n\\tAccuracy: ', accu, '\\n\\tPrecision:', prec, '\\n\\tRecall:   ', recall, '\\n\\tF1_score: ', f1_score, '\\n')"
      ],
      "metadata": {
        "colab": {
          "base_uri": "https://localhost:8080/"
        },
        "id": "NYRQ4KCv_nb3",
        "outputId": "7651951d-a19b-42a1-b7d6-a17e831c4f5e"
      },
      "execution_count": null,
      "outputs": [
        {
          "output_type": "stream",
          "name": "stdout",
          "text": [
            "Desempenho do modelo:\n",
            "\tAccuracy:  0.9615384615384616 \n",
            "\tPrecision: 0.962583748155863 \n",
            "\tRecall:    0.962583748155863 \n",
            "\tF1_score:  0.9618290847670267 \n",
            "\n"
          ]
        }
      ]
    },
    {
      "cell_type": "markdown",
      "source": [
        "Verificamos que todos os parâmetros estão em aproximadamente 96%, o que oferece uma boa precisão a respeito das condições atmosféricas de uma amostra de ar. Vamos agora testar o modelo duas vezes para valores de entrada fornecidos por um usuário."
      ],
      "metadata": {
        "id": "-HNihggVkrg-"
      }
    },
    {
      "cell_type": "code",
      "source": [
        "#Testando para uma amostra considerada limpa [co = 0.9, nmhc = 61, c6h6 = 2.5, nox = 56, no2 = 62, t = 11.5, rh = 60, ah = 0.65]\n",
        "co = float(input(\"Digite a concentração de CO (mg/m^3): \"))\n",
        "nmhc = int(input(\"Digite a concentração de NMHC (microg/m^3): \"))\n",
        "c6h6 = float(input(\"Digite a concentração de C6H6 (microg/m^3): \"))\n",
        "nox = float(input(\"Digite a concentração de NOX (ppb): \"))\n",
        "no2 = float(input(\"Digite a concentração de NO2 (mg/m^3): \"))\n",
        "t = float(input(\"Digite a temperatura (ºC): \"))\n",
        "rh = float(input(\"Digite a humidade relativa (%): \"))\n",
        "ah = float(input(\"Digite a humidade absoluta: \"))\n",
        "\n",
        "res = model.predict([[co, nmhc, c6h6, nox, no2, t, rh, ah]])\n",
        "if res==1: print('\\nSua amostra de ar é considerada poluída\\n')\n",
        "if res==0: print('\\nSua amostra de ar é considerada limpa\\n')\n",
        "\n",
        "\n",
        "#Testando para uma amostra considerada poluída [co = 6.9, nmhc = 401, c6h6 = 22.1, nox = 250, no2 = 140, t = 9.7, rh = 50.8, ah = 0.5]\n",
        "co = float(input(\"Digite a concentração de CO (mg/m^3): \"))\n",
        "nmhc = int(input(\"Digite a concentração de NMHC (microg/m^3): \"))\n",
        "c6h6 = float(input(\"Digite a concentração de C6H6 (microg/m^3): \"))\n",
        "nox = float(input(\"Digite a concentração de NOX (ppb): \"))\n",
        "no2 = float(input(\"Digite a concentração de NO2 (mg/m^3): \"))\n",
        "t = float(input(\"Digite a temperatura (ºC): \"))\n",
        "rh = float(input(\"Digite a humidade relativa (%): \"))\n",
        "ah = float(input(\"Digite a humidade absoluta: \"))\n",
        "\n",
        "res = model.predict([[co, nmhc, c6h6, nox, no2, t, rh, ah]])\n",
        "if res==1: print('\\nSua amostra de ar é considerada poluída\\n')\n",
        "if res==0: print('\\nSua amostra de ar é considerada limpa\\n')"
      ],
      "metadata": {
        "colab": {
          "base_uri": "https://localhost:8080/"
        },
        "id": "dZmJqlCAlEhr",
        "outputId": "689bab63-c715-4ff0-9074-e3c2bd8dec48"
      },
      "execution_count": null,
      "outputs": [
        {
          "name": "stdout",
          "output_type": "stream",
          "text": [
            "Digite a concentração de CO (mg/m^3): 0.9\n",
            "Digite a concentração de NMHC (microg/m^3): 61\n",
            "Digite a concentração de C6H6 (microg/m^3): 2.5\n",
            "Digite a concentração de NOX (ppb): 56\n",
            "Digite a concentração de NO2 (mg/m^3): 62\n",
            "Digite a temperatura (ºC): 11.5\n",
            "Digite a humidade relativa (%): 60\n",
            "Digite a humidade absoluta: 0.65\n"
          ]
        },
        {
          "output_type": "stream",
          "name": "stderr",
          "text": [
            "/usr/local/lib/python3.7/dist-packages/sklearn/base.py:446: UserWarning: X does not have valid feature names, but GaussianNB was fitted with feature names\n",
            "  \"X does not have valid feature names, but\"\n"
          ]
        },
        {
          "output_type": "stream",
          "name": "stdout",
          "text": [
            "\n",
            "Sua amostra de ar é considerada limpa\n",
            "\n",
            "Digite a concentração de CO (mg/m^3): 6.9\n",
            "Digite a concentração de NMHC (microg/m^3): 401\n",
            "Digite a concentração de C6H6 (microg/m^3): 22.1\n",
            "Digite a concentração de NOX (ppb): 250\n",
            "Digite a concentração de NO2 (mg/m^3): 140\n",
            "Digite a temperatura (ºC): 9.7\n",
            "Digite a humidade relativa (%): 50.8\n",
            "Digite a humidade absoluta: 0.5\n",
            "\n",
            "Sua amostra de ar é considerada poluída\n",
            "\n"
          ]
        },
        {
          "output_type": "stream",
          "name": "stderr",
          "text": [
            "/usr/local/lib/python3.7/dist-packages/sklearn/base.py:446: UserWarning: X does not have valid feature names, but GaussianNB was fitted with feature names\n",
            "  \"X does not have valid feature names, but\"\n"
          ]
        }
      ]
    },
    {
      "cell_type": "markdown",
      "source": [
        "##Referências\n",
        "\n",
        "P. L. MEYER. **Probabilidade - Aplicações à estatística**. 2ª ed. Washington.\n",
        "\n",
        "Vito, Saverio. (2016). **Air Quality**. UCI Machine Learning Repository.\n",
        "\n",
        "Min. do Meio Ambiente. **Qualidade do Ar**. Disponível em: https://antigo.mma.gov.br/cidades-sustentaveis/qualidade-do-ar.html.\n",
        "\n",
        "P. C. T. Gomes. **Classificação com Naive Bayes**. Disponível em: https://www.datageeks.com.br/naive-bayes/. \n",
        "\n",
        "ECYCLE. **Entenda o que é monóxido de carbono**. Disponível em: https://www.ecycle.com.br/monoxido-de-carbono/.\n",
        "\n",
        "SCIENCE DIRECT. **Air Pollutant**. Disponível em: https://www.sciencedirect.com/topics/earth-and-planetary-sciences/air-pollutant.\n",
        "\n",
        "GUO, Songjun. YANG, Fumo. TAN, Jihua. DUAN, Jingchun. **Nonmethane Hydrocarbons in Ambient Air of Hazy and Normnal Days in Foshan, South China**. Disponível em: https://www.ncbi.nlm.nih.gov/pmc/articles/PMC3313607/.\n",
        "\n",
        "TEESING. **PPM TO M/MG3 CONVERTER FOR GASES**. Disponível em: https://www.teesing.com/en/page/library/tools/ppm-mg3-converter\n"
      ],
      "metadata": {
        "id": "5aiMv3E1Z_Jd"
      }
    }
  ]
}